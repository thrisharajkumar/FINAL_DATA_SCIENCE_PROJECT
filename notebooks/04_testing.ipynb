{
 "cells": [
  {
   "cell_type": "code",
   "execution_count": null,
   "id": "9a34f94f",
   "metadata": {},
   "outputs": [],
   "source": [
    "import pandas as pd\n",
    "import numpy as np\n",
    "import matplotlib.pyplot as plt\n",
    "import joblib\n",
    "import json\n",
    "from tensorflow.keras.models import load_model\n",
    "from src.config import (\n",
    "    TEST_FILE, INPUT_SCALER_PATH, OUTPUT_SCALER_PATH,\n",
    "    FEATURES_JSON_PATH, TARGET_COLUMNS, FINAL_MODEL_PATH\n",
    ")\n",
    "from sklearn.metrics import r2_score, mean_absolute_error\n",
    "\n",
    "# --- Load Artifacts --- #\n",
    "print(\"🔄 Loading model and scalers...\")\n",
    "model = load_model(FINAL_MODEL_PATH)\n",
    "input_scaler = joblib.load(INPUT_SCALER_PATH)\n",
    "output_scaler = joblib.load(OUTPUT_SCALER_PATH)\n",
    "with open(FEATURES_JSON_PATH) as f:\n",
    "    selected_features = json.load(f)\n",
    "\n",
    "# --- Load and Preprocess Test Data --- #\n",
    "print(\"📊 Loading test data...\")\n",
    "df_test = pd.read_csv(TEST_FILE).dropna()\n",
    "X_test_raw = df_test[selected_features]\n",
    "y_test_raw = df_test[TARGET_COLUMNS]\n",
    "\n",
    "X_test_scaled = input_scaler.transform(X_test_raw)\n",
    "\n",
    "# --- Predict --- #\n",
    "print(\"🚀 Predicting on test data...\")\n",
    "y_pred_scaled = model.predict(X_test_scaled)\n",
    "y_pred = output_scaler.inverse_transform(y_pred_scaled)\n",
    "y_test = y_test_raw.values\n",
    "\n",
    "# --- Visualization --- #\n",
    "print(\"📈 Plotting predictions vs actual...\")\n",
    "num_outputs = len(TARGET_COLUMNS)\n",
    "plt.figure(figsize=(18, 40))\n",
    "\n",
    "for i, col in enumerate(TARGET_COLUMNS):\n",
    "    plt.subplot(num_outputs, 1, i + 1)\n",
    "    plt.plot(y_test[:, i], label='Actual', linewidth=2)\n",
    "    plt.plot(y_pred[:, i], label='Predicted', linestyle='dashed')\n",
    "    plt.title(f\"{col} (R² = {r2_score(y_test[:, i], y_pred[:, i]):.3f}, MAE = {mean_absolute_error(y_test[:, i], y_pred[:, i]):.3f})\")\n",
    "    plt.xlabel(\"Sample\")\n",
    "    plt.ylabel(col)\n",
    "    plt.legend()\n",
    "    plt.tight_layout()\n",
    "\n",
    "plt.show()\n",
    "\n",
    "print(\"✅ Evaluation complete.\")\n"
   ]
  }
 ],
 "metadata": {
  "kernelspec": {
   "display_name": "text_analytics",
   "language": "python",
   "name": "python3"
  },
  "language_info": {
   "codemirror_mode": {
    "name": "ipython",
    "version": 3
   },
   "file_extension": ".py",
   "mimetype": "text/x-python",
   "name": "python",
   "nbconvert_exporter": "python",
   "pygments_lexer": "ipython3",
   "version": "3.11.11"
  }
 },
 "nbformat": 4,
 "nbformat_minor": 5
}
