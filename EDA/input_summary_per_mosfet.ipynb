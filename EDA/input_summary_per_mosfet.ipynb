{
 "cells": [
  {
   "cell_type": "markdown",
   "id": "b1eb4088",
   "metadata": {},
   "source": [
    "Summarizes the simulation input space per MOSFET device.\n",
    "\n",
    "Ensures that input parameter ranges are consistent across devices.\n",
    "\n",
    "Provides descriptive statistics of inputs (e.g., Vbus, Rg, Ls4–Ls11) for each MOSFET.\n",
    "\n",
    "Helps confirm which simulation setups are shared and can be used for balanced merging."
   ]
  },
  {
   "cell_type": "code",
   "execution_count": null,
   "id": "a2fc17c1",
   "metadata": {},
   "outputs": [],
   "source": [
    "import os\n",
    "import pandas as pd\n",
    "\n",
    "# 1. Define input columns (based on your header)\n",
    "input_columns = [\n",
    "    'Vbus', 'Rg', 'Ls4', 'Ls5', 'Ls6', 'Ls7', 'Ls8', 'Ls9', 'Ls10', 'Ls11',\n",
    "    'Tp1', 'Tp2', 'Toff', 'Tstart', 'L1', 'L2', 'L3', 'R1',\n",
    "    'VDS_max', 'ID_max_25C', 'RDS_on_typ', 'RDS_on_max',\n",
    "    'VGS_th_min', 'VGS_th_typ', 'VGS_th_max',\n",
    "    'Qg_total', 'Qrr_typ', 'Irrm_typ', 'Eon_typ', 'Eoff_typ',\n",
    "    'Ciss', 'Coss', 'Crss',\n",
    "    'Rth_JC_typ', 'Rth_JC_max', 'Tj_max'\n",
    "]\n",
    "\n",
    "# 2. Set input/output folders\n",
    "input_folder = \"mosfets_step3_final_cleaned\"\n",
    "output_folder = \"data_description/input_summary_per_mosfet\"\n",
    "os.makedirs(output_folder, exist_ok=True)\n",
    "\n",
    "# 3. Process each file\n",
    "for filename in os.listdir(input_folder):\n",
    "    if filename.endswith(\".csv\"):\n",
    "        filepath = os.path.join(input_folder, filename)\n",
    "        df = pd.read_csv(filepath)\n",
    "\n",
    "        # Extract just the input features\n",
    "        df_inputs = df[input_columns]\n",
    "\n",
    "        # Describe input stats\n",
    "        desc = df_inputs.describe().T  # Transpose for easier reading\n",
    "\n",
    "        # Save description\n",
    "        mosfet_name = filename.replace(\"_cleaned.csv\", \"\")\n",
    "        output_path = os.path.join(output_folder, f\"{mosfet_name}_input_description.csv\")\n",
    "        desc.to_csv(output_path)\n",
    "\n",
    "        print(f\"Saved input summary for {mosfet_name} to {output_path}\")\n"
   ]
  }
 ],
 "metadata": {
  "language_info": {
   "name": "python"
  }
 },
 "nbformat": 4,
 "nbformat_minor": 5
}
