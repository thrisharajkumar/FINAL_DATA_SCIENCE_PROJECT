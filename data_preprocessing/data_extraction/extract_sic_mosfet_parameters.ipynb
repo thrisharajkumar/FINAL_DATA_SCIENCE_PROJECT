{
 "cells": [
  {
   "cell_type": "markdown",
   "id": "3a36c820",
   "metadata": {},
   "source": [
    "## This script is to Extract the SiC Mosfets Parameters from the Datasheet PDF to csv files"
   ]
  },
  {
   "cell_type": "markdown",
   "id": "8e7203df",
   "metadata": {},
   "source": [
    "Imports and the libraries required here are the regular expressions (re), data tables (pandas) and for reading the pdfs - PyPDF2"
   ]
  },
  {
   "cell_type": "code",
   "execution_count": null,
   "id": "49d806bf",
   "metadata": {},
   "outputs": [],
   "source": [
    "# imports \n",
    "import os\n",
    "import re\n",
    "import sys\n",
    "from typing import Optional, Tuple\n",
    "import pandas as pd\n",
    "from PyPDF2 import PdfReader"
   ]
  },
  {
   "cell_type": "code",
   "execution_count": null,
   "id": "b0a14a38",
   "metadata": {},
   "outputs": [],
   "source": [
    "# Config setup for the data extracted to be saved as ouput and input path\n",
    "sys.path.insert(0, os.path.abspath(os.path.join(os.path.dirname(__file__), \"..\", \"..\", \"..\")))\n",
    "from config import DATA_EXTRACTION_INPUT, DATA_EXTRACTION_OUTPUT"
   ]
  },
  {
   "cell_type": "markdown",
   "id": "7264d0d0",
   "metadata": {},
   "source": [
    "\n",
    "Finding the first number that appears after the parameter name \n",
    "\n",
    "Example:\n",
    "- label_pattern = r\"Power Dissipation\"\n",
    "- \"Power Dissipation  150 W\" and returns that value\n"
   ]
  },
  {
   "cell_type": "code",
   "execution_count": null,
   "id": "f9ba9d26",
   "metadata": {},
   "outputs": [],
   "source": [
    "def find_value(text: str, label_pattern: str, context: int = 100, dtype=float) -> Optional[float]:\n",
    "    \n",
    "    try:\n",
    "        # Look up to {context} characters ahead for a number like 123 or 123.45\n",
    "        pattern = rf\"{label_pattern}.{{0,{context}}}?([\\d.]+)\"\n",
    "        match = re.search(pattern, text, re.IGNORECASE | re.DOTALL)\n",
    "        if match:\n",
    "            return dtype(match.group(1))\n",
    "    except Exception:\n",
    "        pass\n",
    "    return None"
   ]
  },
  {
   "cell_type": "markdown",
   "id": "29b54c7e",
   "metadata": {},
   "source": [
    "Extract the values from the correct rpw and column for eg: min/max/typ"
   ]
  },
  {
   "cell_type": "code",
   "execution_count": null,
   "id": "dd1fd35f",
   "metadata": {},
   "outputs": [],
   "source": [
    "\n",
    "def extract_values_by_label(text: str, label: str, expected_count: int = 3) -> Tuple[Optional[float], ...]:\n",
    "    \n",
    "    try:\n",
    "        \n",
    "        pattern = rf\"{label}\\s*\\n?\\s*((?:-?\\d+\\.?\\d*\\s+){{{expected_count - 1},}}[\\d.+-]+)\"\n",
    "        match = re.search(pattern, text, re.IGNORECASE)\n",
    "        if match:\n",
    "            numbers = re.findall(r\"-?\\d+\\.?\\d*\", match.group(1))\n",
    "            values = tuple(map(float, numbers[:expected_count]))\n",
    "            \n",
    "            if len(values) < expected_count:\n",
    "                values = values + (None,) * (expected_count - len(values))\n",
    "            return values\n",
    "    except Exception:\n",
    "        pass\n",
    "    return (None,) * expected_count"
   ]
  },
  {
   "cell_type": "code",
   "execution_count": null,
   "id": "c7f1ec79",
   "metadata": {},
   "outputs": [],
   "source": [
    "def extract_reverse_value(text: str, label: str, unit: str, occurrence: int = 1) -> Optional[float]:\n",
    "    \n",
    "    pattern = rf\"{label}[^0-9A-Za-z]+([\\d.]+)\\s*{unit}\"\n",
    "    matches = re.findall(pattern, text, re.IGNORECASE)\n",
    "    try:\n",
    "        return float(matches[occurrence - 1])\n",
    "    except Exception:\n",
    "        return None"
   ]
  },
  {
   "cell_type": "markdown",
   "id": "6d54788b",
   "metadata": {},
   "source": [
    "Function for the correct temperature max value "
   ]
  },
  {
   "cell_type": "code",
   "execution_count": null,
   "id": "e9838814",
   "metadata": {},
   "outputs": [],
   "source": [
    "def extract_temperature_max(text: str) -> Optional[int]:\n",
    "    \n",
    "    match = re.search(\n",
    "        r\"Operating Junction and Storage Temperature[^+0-9\\-]+[-–]?\\d+\\s*(?:to|–)\\s*\\+?(\\d+)\",\n",
    "        text,\n",
    "        re.IGNORECASE\n",
    "    )\n",
    "    return int(match.group(1)) if match else None"
   ]
  },
  {
   "cell_type": "markdown",
   "id": "5a9f89a0",
   "metadata": {},
   "source": [
    "For each PDF in DATA_EXTRACTION_INPUT:\n",
    "- read text\n",
    " - extract values\n",
    "- write <DeviceID>.csv to DATA_EXTRACTION_OUTPUT"
   ]
  },
  {
   "cell_type": "code",
   "execution_count": null,
   "id": "318edf77",
   "metadata": {},
   "outputs": [],
   "source": [
    "def main() -> None:\n",
    "# output folder here\n",
    "os.makedirs(DATA_EXTRACTION_OUTPUT, exist_ok=True)\n",
    "\n",
    "for filename in os.listdir(DATA_EXTRACTION_INPUT):\n",
    "    \n",
    "    if not filename.lower().endswith(\".pdf\"):\n",
    "        continue\n",
    "\n",
    "    # file creation here\n",
    "    pdf_path = os.path.join(DATA_EXTRACTION_INPUT, filename)\n",
    "    device_id = os.path.splitext(filename)[0]\n",
    "\n",
    "    # -extrcating all the values from the pdf \n",
    "    try:\n",
    "        # using PdfReader\n",
    "        reader = PdfReader(pdf_path)\n",
    "        # check all the pages and extrcat non null\n",
    "        text = \"\".join((page.extract_text() or \"\") for page in reader.pages)\n",
    "    except Exception as e:\n",
    "        print(f\"[!] Could not read: {pdf_path} ({e})\")\n",
    "        continue\n",
    "\n",
    "    VGS_th_min, VGS_th_typ, VGS_th_max = extract_values_by_label(\n",
    "        text, r\"Gate Threshold Voltage\", expected_count=3\n",
    "    )\n",
    "\n",
    "    RDS_on_typ, RDS_on_max = extract_values_by_label(\n",
    "        text, r\"On-State Resistance\", expected_count=2\n",
    "    )[:2]\n",
    "\n",
    "    Qg_total = extract_values_by_label(\n",
    "        text, r\"Total Gate Charge\", expected_count=1\n",
    "    )[0]\n",
    "\n",
    "\n",
    "    Qgs = find_value(text, r\"Gate to Source Charge[^0-9]*(\\d+\\.?\\d*)\")\n",
    "    Qgd = find_value(text, r\"Gate to Drain Charge[^0-9]*(\\d+\\.?\\d*)\")\n",
    "\n",
    "    Qrr  = extract_reverse_value(text, \"Reverse Recovery Charge\", \"nC\", occurrence=2)\n",
    "    Irrm = extract_reverse_value(text, \"Peak Reverse Recovery Current\", \"A\",  occurrence=2)\n",
    "\n",
    "    Rth_typ, Rth_max = extract_values_by_label(\n",
    "        text, r\"Thermal Resistance from Junction to Case\", expected_count=2\n",
    "    )[:2]\n",
    "\n",
    "    Tj_max = extract_temperature_max(text)"
   ]
  },
  {
   "cell_type": "markdown",
   "id": "a201e9cf",
   "metadata": {},
   "source": [
    "Ouput data"
   ]
  },
  {
   "cell_type": "code",
   "execution_count": null,
   "id": "556866bd",
   "metadata": {},
   "outputs": [],
   "source": [
    "data = {\n",
    "    \"DeviceID\": device_id,\n",
    "\n",
    "    # Basic ratings / thresholds\n",
    "    \"VBR_DSS\": find_value(text, r\"Drain\\s*-\\s*Source Voltage\", dtype=int),  # e.g., 650\n",
    "    \"VGS_th_min\": VGS_th_min,\n",
    "    \"VGS_th_typ\": VGS_th_typ,\n",
    "    \"VGS_th_max\": VGS_th_max,\n",
    "\n",
    "    # Conduction / resistance\n",
    "    \"RDS_on_typ\": RDS_on_typ,\n",
    "    \"RDS_on_max\": RDS_on_max,\n",
    "\n",
    "    # Charges\n",
    "    \"Qg_total\": Qg_total,\n",
    "    \"Qgs\": Qgs,\n",
    "    \"Qgd\": Qgd,\n",
    "\n",
    "    # Misc device parameters\n",
    "    \"Rg_int\": find_value(text, r\"Internal Gate Resistance\"),\n",
    "    \"Ciss\": find_value(text, r\"Input Capacitance\", dtype=int),\n",
    "    \"Coss\": find_value(text, r\"Output Capacitance\", dtype=int),\n",
    "    \"Crss\": find_value(text, r\"Reverse Transfer Capacitance\", dtype=int),\n",
    "\n",
    "    # Switching times\n",
    "    \"td_on\": find_value(text, r\"Turn[-\\s]?On Delay Time\"),\n",
    "    \"tr\": find_value(text, r\"Rise Time\"),\n",
    "    \"td_off\": find_value(text, r\"Turn[-\\s]?Off Delay Time\"),\n",
    "    \"tf\": find_value(text, r\"Fall Time\"),\n",
    "\n",
    "    # Energies\n",
    "    \"Eon\": find_value(text, r\"\\bEON\\b[^0-9]*(\\d+\\.?\\d*)\"),\n",
    "    \"Eoff\": find_value(text, r\"\\bEOFF\\b[^0-9]*(\\d+\\.?\\d*)\"),\n",
    "\n",
    "    # Diode recovery\n",
    "    \"Qrr\": Qrr,\n",
    "    \"trr\": find_value(text, r\"Reverse Recovery Time[^a-zA-Z0-9]*(\\d+)\", dtype=int),\n",
    "    \"Irrm\": Irrm,\n",
    "\n",
    "    # Thermal\n",
    "    \"Rth_JC_typ\": Rth_typ,\n",
    "    \"Rth_JC_max\": Rth_max,\n",
    "    \"Tj_max\": Tj_max,\n",
    "\n",
    "    # Power\n",
    "    \"Power_dissipation\": find_value(text, r\"Power Dissipation\", dtype=int),\n",
    "}"
   ]
  },
  {
   "cell_type": "code",
   "execution_count": null,
   "id": "515d954b",
   "metadata": {},
   "outputs": [],
   "source": [
    "df = pd.DataFrame([data])\n",
    "output_csv = os.path.join(DATA_EXTRACTION_OUTPUT, f\"{device_id}.csv\")\n",
    "try:\n",
    "    df.to_csv(output_csv, index=False)\n",
    "    print(f\"Extracted: {output_csv}\")\n",
    "except Exception as e:\n",
    "    print(f\"Failed to write CSV for {device_id}: {e}\")"
   ]
  },
  {
   "cell_type": "markdown",
   "id": "34a5fb29",
   "metadata": {},
   "source": [
    "Final running main()"
   ]
  },
  {
   "cell_type": "code",
   "execution_count": null,
   "id": "1121d492",
   "metadata": {},
   "outputs": [],
   "source": [
    "if __name__ == \"__main__\":\n",
    "    main()"
   ]
  }
 ],
 "metadata": {
  "kernelspec": {
   "display_name": "Python 3",
   "language": "python",
   "name": "python3"
  },
  "language_info": {
   "name": "python",
   "version": "3.10.11"
  }
 },
 "nbformat": 4,
 "nbformat_minor": 5
}
